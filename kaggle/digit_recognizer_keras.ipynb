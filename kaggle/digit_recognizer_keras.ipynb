{
 "cells": [
  {
   "cell_type": "markdown",
   "metadata": {},
   "source": [
    "This version of solving digit recognition problem using MNIST dataset is implemented using keras. Two models are considered: simple multi-layer neural network and convolutional neural network."
   ]
  },
  {
   "cell_type": "code",
   "execution_count": 38,
   "metadata": {},
   "outputs": [],
   "source": [
    "import pandas as pd\n",
    "import numpy as np\n",
    "import matplotlib.pyplot as plt\n",
    "from sklearn.model_selection import train_test_split\n",
    "from tensorflow.python.keras.datasets import mnist\n",
    "from tensorflow.python.keras.models import Model, Sequential\n",
    "from tensorflow.python.keras.layers import Input, Dense, Dropout, Flatten, Conv2D, MaxPooling2D\n",
    "from tensorflow.python.keras import utils\n",
    "\n",
    "np.random.seed(1)\n",
    "plt.rcParams['figure.figsize'] = 8, 6"
   ]
  },
  {
   "cell_type": "markdown",
   "metadata": {},
   "source": [
    "## Load data\n",
    "\n",
    "The data files train.csv and test.csv contain gray-scale images of hand-drawn digits, from zero through nine.\n",
    "\n",
    "The training data set, (train.csv), has 785 columns. The first column, called \"label\", is the digit that was drawn by the user. The rest of the columns contain the pixel-values of the associated image. Each image is 28 pixels in height and 28 pixels in width, for a total of 784 pixels in total. Each pixel has a single pixel-value associated with it, indicating the lightness or darkness of that pixel, with higher numbers meaning darker. This pixel-value is an integer between 0 and 255, inclusive.\n",
    "\n",
    "Each pixel column in the training set has a name like pixelx, where x is an integer between 0 and 783, inclusive. To locate this pixel on the image, suppose that we have decomposed x as x = i * 28 + j, where i and j are integers between 0 and 27, inclusive. Then pixelx is located on row i and column j of a 28 x 28 matrix, (indexing by zero).\n"
   ]
  },
  {
   "cell_type": "code",
   "execution_count": 2,
   "metadata": {},
   "outputs": [],
   "source": [
    "train = pd.read_csv('../data/digit-recognizer/train.csv')\n",
    "test = pd.read_csv('../data/digit-recognizer/test.csv')"
   ]
  },
  {
   "cell_type": "markdown",
   "metadata": {},
   "source": [
    "## Data preprocessing\n",
    "\n",
    "Data preprocessing would include:\n",
    "* Normalize the data (numeric values are rescaled in order to have values between 0 and 1)\n",
    "* Split the dataset on train and validation datasets\n",
    "* Represent target value as zero vector with the length equals to the number of categories and \"1\" value on a position corresponding to a target value, i.e. target value \"4\" will be threated as [0, 0, 0, 0, 1, 0, 0, 0, 0, 0] vector. This is an important step because predicting \"7\" instead of real target value \"8\" is not better than predicting \"0\", both predictions are wrong"
   ]
  },
  {
   "cell_type": "code",
   "execution_count": 3,
   "metadata": {},
   "outputs": [],
   "source": [
    "test_normalized = test.values.astype('float32')\n",
    "test_normalized /= 255\n",
    "\n",
    "X = train.iloc[:, 1:].values.astype('float32')\n",
    "X /= 255\n",
    "y = utils.to_categorical(train.iloc[:, 0])"
   ]
  },
  {
   "cell_type": "markdown",
   "metadata": {},
   "source": [
    "## Build a model\n"
   ]
  },
  {
   "cell_type": "markdown",
   "metadata": {},
   "source": [
    "### Simple multi-layer neural network\n"
   ]
  },
  {
   "cell_type": "code",
   "execution_count": 19,
   "metadata": {},
   "outputs": [
    {
     "name": "stdout",
     "output_type": "stream",
     "text": [
      "Train on 37800 samples, validate on 4200 samples\n",
      "Epoch 1/20\n",
      " - 3s - loss: 9.1662 - acc: 0.3631 - val_loss: 5.0579 - val_acc: 0.5990\n",
      "Epoch 2/20\n",
      " - 3s - loss: 3.4080 - acc: 0.7057 - val_loss: 2.3929 - val_acc: 0.7710\n",
      "Epoch 3/20\n",
      " - 3s - loss: 2.0116 - acc: 0.8057 - val_loss: 1.7569 - val_acc: 0.8243\n",
      "Epoch 4/20\n",
      " - 3s - loss: 1.5557 - acc: 0.8445 - val_loss: 1.4458 - val_acc: 0.8507\n",
      "Epoch 5/20\n",
      " - 3s - loss: 1.3088 - acc: 0.8660 - val_loss: 1.2626 - val_acc: 0.8669\n",
      "Epoch 6/20\n",
      " - 3s - loss: 1.1372 - acc: 0.8784 - val_loss: 1.1300 - val_acc: 0.8812\n",
      "Epoch 7/20\n",
      " - 3s - loss: 1.0067 - acc: 0.8913 - val_loss: 1.0342 - val_acc: 0.8893\n",
      "Epoch 8/20\n",
      " - 3s - loss: 0.9064 - acc: 0.8982 - val_loss: 0.9406 - val_acc: 0.8983\n",
      "Epoch 9/20\n",
      " - 3s - loss: 0.8169 - acc: 0.9060 - val_loss: 0.8819 - val_acc: 0.9045\n",
      "Epoch 10/20\n",
      " - 3s - loss: 0.7427 - acc: 0.9112 - val_loss: 0.8293 - val_acc: 0.9100\n",
      "Epoch 11/20\n",
      " - 3s - loss: 0.6813 - acc: 0.9172 - val_loss: 0.7838 - val_acc: 0.9107\n",
      "Epoch 12/20\n",
      " - 3s - loss: 0.6270 - acc: 0.9224 - val_loss: 0.7266 - val_acc: 0.9155\n",
      "Epoch 13/20\n",
      " - 3s - loss: 0.5776 - acc: 0.9261 - val_loss: 0.6970 - val_acc: 0.9169\n",
      "Epoch 14/20\n",
      " - 3s - loss: 0.5339 - acc: 0.9290 - val_loss: 0.6545 - val_acc: 0.9174\n",
      "Epoch 15/20\n",
      " - 3s - loss: 0.4945 - acc: 0.9329 - val_loss: 0.6288 - val_acc: 0.9200\n",
      "Epoch 16/20\n",
      " - 3s - loss: 0.4609 - acc: 0.9362 - val_loss: 0.6126 - val_acc: 0.9219\n",
      "Epoch 17/20\n",
      " - 3s - loss: 0.4308 - acc: 0.9387 - val_loss: 0.5711 - val_acc: 0.9243\n",
      "Epoch 18/20\n",
      " - 3s - loss: 0.4051 - acc: 0.9411 - val_loss: 0.5625 - val_acc: 0.9236\n",
      "Epoch 19/20\n",
      " - 3s - loss: 0.3795 - acc: 0.9430 - val_loss: 0.5429 - val_acc: 0.9252\n",
      "Epoch 20/20\n",
      " - 3s - loss: 0.3562 - acc: 0.9456 - val_loss: 0.5409 - val_acc: 0.9236\n",
      "Simple NN, accuracy on test set: 92.36%\n"
     ]
    }
   ],
   "source": [
    "num_pixels = 784\n",
    "batch_size = 64\n",
    "epochs = 20\n",
    "hidden_layer_size = 32\n",
    "num_classes = 10\n",
    "X_train, X_test, y_train, y_test = train_test_split(X, y, test_size=0.1, random_state=5)\n",
    "\n",
    "def create_simple_nn_model():\n",
    "    model = Sequential()\n",
    "    model.add(Dense(hidden_layer_size, input_dim=num_pixels, kernel_initializer='normal', activation='relu'))\n",
    "    model.add(Dense(num_classes, kernel_initializer='normal', activation='softmax'))\n",
    "    model.compile(loss='categorical_crossentropy', optimizer='adam', metrics=['accuracy'])\n",
    "    return model\n",
    "\n",
    "model = create_simple_nn_model()\n",
    "history = model.fit(X_train, y_train, validation_data=(X_test, y_test), epochs=epochs, \n",
    "                    batch_size=batch_size, verbose=2)\n",
    "loss, accuracy = model.evaluate(X_test, y_test, verbose=0)\n",
    "print(f\"Simple NN, accuracy on test set: {accuracy*100:.2f}%\")\n"
   ]
  },
  {
   "cell_type": "code",
   "execution_count": 41,
   "metadata": {},
   "outputs": [
    {
     "data": {
      "image/png": "[encoded data removed]",
      "text/plain": [
       "<Figure size 576x432 with 1 Axes>"
      ]
     },
     "metadata": {
      "needs_background": "light"
     },
     "output_type": "display_data"
    }
   ],
   "source": [
    "plt.plot(history.history['acc'])\n",
    "plt.plot(history.history['val_acc'])\n",
    "plt.title('Simple NN model accuracy')\n",
    "plt.ylabel('accuracy')\n",
    "plt.xlabel('epoch')\n",
    "plt.legend(['training', 'validation'], loc='best')\n",
    "plt.grid()\n",
    "plt.show()"
   ]
  },
  {
   "cell_type": "markdown",
   "metadata": {},
   "source": [
    "### Simple convolutional neural network\n"
   ]
  },
  {
   "cell_type": "code",
   "execution_count": 42,
   "metadata": {},
   "outputs": [],
   "source": [
    "X_train, X_test, y_train, y_test = train_test_split(X, y, test_size=0.1, random_state=5)\n",
    "# reshape in order to have [samples][width][height][channels] shape\n",
    "X_train = X_train.reshape(X_train.shape[0], 28, 28, 1).astype('float32')\n",
    "X_test = X_test.reshape(X_test.shape[0], 28, 28, 1).astype('float32')"
   ]
  },
  {
   "cell_type": "code",
   "execution_count": 43,
   "metadata": {},
   "outputs": [
    {
     "name": "stdout",
     "output_type": "stream",
     "text": [
      "Train on 37800 samples, validate on 4200 samples\n",
      "Epoch 1/10\n",
      "37800/37800 [==============================]37800/37800 [==============================] - 47s 1ms/step - loss: 0.3120 - acc: 0.9136 - val_loss: 0.1024 - val_acc: 0.9721\n",
      "\n",
      "Epoch 2/10\n",
      "37800/37800 [==============================]37800/37800 [==============================] - 44s 1ms/step - loss: 0.0877 - acc: 0.9745 - val_loss: 0.0669 - val_acc: 0.9798\n",
      "\n",
      "Epoch 3/10\n",
      "37800/37800 [==============================]37800/37800 [==============================] - 46s 1ms/step - loss: 0.0584 - acc: 0.9832 - val_loss: 0.0597 - val_acc: 0.9812\n",
      "\n",
      "Epoch 4/10\n",
      "37800/37800 [==============================]37800/37800 [==============================] - 46s 1ms/step - loss: 0.0466 - acc: 0.9852 - val_loss: 0.0565 - val_acc: 0.9821\n",
      "\n",
      "Epoch 5/10\n",
      "37800/37800 [==============================]37800/37800 [==============================] - 45s 1ms/step - loss: 0.0375 - acc: 0.9885 - val_loss: 0.0552 - val_acc: 0.9819\n",
      "\n",
      "Epoch 6/10\n",
      "37800/37800 [==============================]37800/37800 [==============================] - 46s 1ms/step - loss: 0.0320 - acc: 0.9895 - val_loss: 0.0559 - val_acc: 0.9843\n",
      "\n",
      "Epoch 7/10\n",
      "37800/37800 [==============================]37800/37800 [==============================] - 45s 1ms/step - loss: 0.0260 - acc: 0.9921 - val_loss: 0.0474 - val_acc: 0.9855\n",
      "\n",
      "Epoch 8/10\n",
      "37800/37800 [==============================]37800/37800 [==============================] - 46s 1ms/step - loss: 0.0221 - acc: 0.9932 - val_loss: 0.0557 - val_acc: 0.9840\n",
      "\n",
      "Epoch 9/10\n",
      "37800/37800 [==============================]37800/37800 [==============================] - 46s 1ms/step - loss: 0.0189 - acc: 0.9943 - val_loss: 0.0470 - val_acc: 0.9874\n",
      "\n",
      "Epoch 10/10\n",
      "37800/37800 [==============================]37800/37800 [==============================] - 48s 1ms/step - loss: 0.0163 - acc: 0.9947 - val_loss: 0.0553 - val_acc: 0.9852\n",
      "\n",
      "Convolutional NN, accuracy on test set: 92.36%\n"
     ]
    }
   ],
   "source": [
    "batch_size = 200\n",
    "epochs = 10\n",
    "\n",
    "def create_conv_nn_model():\n",
    "    model = Sequential()\n",
    "    model.add(Conv2D(32, (5, 5), input_shape=(28, 28, 1), activation='relu'))\n",
    "    model.add(MaxPooling2D())\n",
    "    model.add(Dropout(0.2))\n",
    "    model.add(Flatten())\n",
    "    model.add(Dense(128, activation='relu'))\n",
    "    model.add(Dense(num_classes, activation='softmax'))\n",
    "    model.compile(loss='categorical_crossentropy', optimizer='adam', metrics=['accuracy'])\n",
    "    return model\n",
    "\n",
    "cnn_model = create_conv_nn_model()\n",
    "cnn_history = cnn_model.fit(X_train, y_train, validation_data=(X_test, y_test), epochs=epochs, batch_size=batch_size)\n",
    "cnn_loss, cnn_accuracy = cnn_model.evaluate(X_test, y_test, verbose=0)\n",
    "print(f\"Convolutional NN, accuracy on test set: {accuracy*100:.2f}%\")"
   ]
  },
  {
   "cell_type": "code",
   "execution_count": 44,
   "metadata": {},
   "outputs": [
    {
     "data": {
      "image/png": "[encoded data removed]",
      "text/plain": [
       "<Figure size 576x432 with 1 Axes>"
      ]
     },
     "metadata": {
      "needs_background": "light"
     },
     "output_type": "display_data"
    }
   ],
   "source": [
    "plt.plot(cnn_history.history['acc'])\n",
    "plt.plot(cnn_history.history['val_acc'])\n",
    "plt.title('CNN model accuracy')\n",
    "plt.ylabel('accuracy')\n",
    "plt.xlabel('epoch')\n",
    "plt.legend(['training', 'validation'], loc='best')\n",
    "plt.grid()\n",
    "plt.show()"
   ]
  },
  {
   "cell_type": "markdown",
   "metadata": {},
   "source": [
    "## Submit the prediction"
   ]
  },
  {
   "cell_type": "code",
   "execution_count": 16,
   "metadata": {},
   "outputs": [
    {
     "data": {
      "text/html": [
       "<div>\n",
       "<style scoped>\n",
       "    .dataframe tbody tr th:only-of-type {\n",
       "        vertical-align: middle;\n",
       "    }\n",
       "\n",
       "    .dataframe tbody tr th {\n",
       "        vertical-align: top;\n",
       "    }\n",
       "\n",
       "    .dataframe thead th {\n",
       "        text-align: right;\n",
       "    }\n",
       "</style>\n",
       "<table border=\"1\" class=\"dataframe\">\n",
       "  <thead>\n",
       "    <tr style=\"text-align: right;\">\n",
       "      <th></th>\n",
       "      <th>ImageId</th>\n",
       "      <th>Label</th>\n",
       "    </tr>\n",
       "  </thead>\n",
       "  <tbody>\n",
       "    <tr>\n",
       "      <th>0</th>\n",
       "      <td>1</td>\n",
       "      <td>2</td>\n",
       "    </tr>\n",
       "    <tr>\n",
       "      <th>1</th>\n",
       "      <td>2</td>\n",
       "      <td>0</td>\n",
       "    </tr>\n",
       "    <tr>\n",
       "      <th>2</th>\n",
       "      <td>3</td>\n",
       "      <td>9</td>\n",
       "    </tr>\n",
       "    <tr>\n",
       "      <th>3</th>\n",
       "      <td>4</td>\n",
       "      <td>4</td>\n",
       "    </tr>\n",
       "    <tr>\n",
       "      <th>4</th>\n",
       "      <td>5</td>\n",
       "      <td>3</td>\n",
       "    </tr>\n",
       "  </tbody>\n",
       "</table>\n",
       "</div>"
      ],
      "text/plain": [
       "   ImageId  Label\n",
       "0        1      2\n",
       "1        2      0\n",
       "2        3      9\n",
       "3        4      4\n",
       "4        5      3"
      ]
     },
     "execution_count": 16,
     "metadata": {},
     "output_type": "execute_result"
    }
   ],
   "source": [
    "output = model.predict(test_normalized)\n",
    "prediction = np.argmax(output, axis=1)\n",
    "submission = pd.DataFrame({\n",
    "    \"ImageId\": list(range(1, test.shape[0]+1)),\n",
    "    \"Label\": prediction\n",
    "})\n",
    "submission.to_csv(\"../data/digit-recognizer/digit-recognizer-submission.csv\", index=False)\n",
    "submission.head()"
   ]
  },
  {
   "cell_type": "code",
   "execution_count": null,
   "metadata": {},
   "outputs": [],
   "source": []
  }
 ],
 "metadata": {
  "kernelspec": {
   "display_name": "Python 3",
   "language": "python",
   "name": "python3"
  },
  "language_info": {
   "codemirror_mode": {
    "name": "ipython",
    "version": 3
   },
   "file_extension": ".py",
   "mimetype": "text/x-python",
   "name": "python",
   "nbconvert_exporter": "python",
   "pygments_lexer": "ipython3",
   "version": "3.6.12"
  },
  "toc": {
   "base_numbering": 1,
   "nav_menu": {},
   "number_sections": true,
   "sideBar": true,
   "skip_h1_title": false,
   "title_cell": "Table of Contents",
   "title_sidebar": "Contents",
   "toc_cell": false,
   "toc_position": {},
   "toc_section_display": true,
   "toc_window_display": false
  }
 },
 "nbformat": 4,
 "nbformat_minor": 4
}
