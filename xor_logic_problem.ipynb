{
 "cells": [
  {
   "cell_type": "markdown",
   "metadata": {},
   "source": [
    "**XOR logic problem**\n",
    "\n",
    "This neural network solves the XOR logic problem (the output is true only when both input values differ from each other). The table is shown below:<br>\n",
    "\n",
    "| X1 | X2 | Y |\n",
    "| --- | --- | --- |\n",
    "| 0 | 0 | 0 |\n",
    "| 0 | 1 | 1 |\n",
    "| 1 | 0 | 1 |\n",
    "| 1 | 1 | 0 |\n",
    "\n",
    "THE LEARNING ALGORITHM\n",
    "1. Initialize weights and biases randomly\n",
    "2. Iterate over the data<br>\n",
    "    i. Compute the output of neural network using sigmoid function<br>\n",
    "    ii. Compute the loss using the square error loss function<br>\n",
    "    iii. W(new) = W(old) — α ∆W<br>\n",
    "    iv. B(new) = B(old) — α ∆B<br>\n",
    "3. Repeat in order to get minimal error\n"
   ]
  },
  {
   "cell_type": "code",
   "execution_count": 14,
   "metadata": {},
   "outputs": [
    {
     "name": "stdout",
     "output_type": "stream",
     "text": [
      "Output from Xor neural network after 10000 epochs:\n",
      " [[0.07304485]\n",
      " [0.93084242]\n",
      " [0.93122512]\n",
      " [0.07564609]]\n"
     ]
    },
    {
     "data": {
      "image/png": "[encoded data removed]",
      "text/plain": [
       "<Figure size 432x288 with 1 Axes>"
      ]
     },
     "metadata": {
      "needs_background": "light"
     },
     "output_type": "display_data"
    }
   ],
   "source": [
    "import numpy as np\n",
    "import matplotlib.pyplot as plt\n",
    "from sklearn.metrics import mean_squared_error\n",
    "np.random.seed(1)\n",
    "\n",
    "\n",
    "def sigmoid(x, deriv=False):\n",
    "    if deriv:\n",
    "        return x * (1 - x)\n",
    "    return 1/(1 + np.exp(-x))\n",
    "\n",
    "\n",
    "input_layer = np.array([[0, 0], [0, 1], [1, 0], [1, 1]])\n",
    "output_layer_expected = np.array([[0], [1], [1], [0]])\n",
    "epochs = 10000\n",
    "learn_rate = 0.1\n",
    "weights = [np.random.rand(2, 2), np.random.rand(2, 1)]\n",
    "bias_hidden = np.random.rand(1, 2)\n",
    "bias_output = np.random.rand(1, 1)\n",
    "errors = []\n",
    "\n",
    "for i in range(epochs):\n",
    "    # forward propagation\n",
    "    hidden_layer = sigmoid(np.dot(input_layer, weights[0]) + bias_hidden)\n",
    "    output_layer = sigmoid(np.dot(hidden_layer, weights[1]) + bias_output)\n",
    "    # backpropagation\n",
    "    error = output_layer_expected - output_layer\n",
    "    errors.append(mean_squared_error(output_layer_expected, output_layer))\n",
    "    d_output_layer = error * sigmoid(output_layer, True)\n",
    "    d_hidden_layer = d_output_layer.dot(weights[1].T) * sigmoid(hidden_layer, True)\n",
    "    # update weights and biases\n",
    "    weights[1] += learn_rate * np.dot(hidden_layer.T, d_output_layer)\n",
    "    bias_output += learn_rate * np.sum(d_output_layer, axis=0, keepdims=True)\n",
    "    weights[0] += learn_rate * np.dot(input_layer.T, d_hidden_layer)\n",
    "    bias_hidden += learn_rate * np.sum(d_hidden_layer, axis=0, keepdims=True)\n",
    "\n",
    "print(f\"Output from Xor neural network after {epochs} epochs:\\n {output_layer}\")\n",
    "plt.plot(list(range(epochs)), errors)\n",
    "plt.xlabel('Epoch')\n",
    "plt.ylabel('Error')\n",
    "plt.title('Epoch vs Error')\n",
    "plt.show()"
   ]
  },
  {
   "cell_type": "code",
   "execution_count": null,
   "metadata": {},
   "outputs": [],
   "source": []
  }
 ],
 "metadata": {
  "kernelspec": {
   "display_name": "Python 3",
   "language": "python",
   "name": "python3"
  },
  "language_info": {
   "codemirror_mode": {
    "name": "ipython",
    "version": 3
   },
   "file_extension": ".py",
   "mimetype": "text/x-python",
   "name": "python",
   "nbconvert_exporter": "python",
   "pygments_lexer": "ipython3",
   "version": "3.7.2"
  },
  "toc": {
   "base_numbering": 1,
   "nav_menu": {},
   "number_sections": true,
   "sideBar": true,
   "skip_h1_title": false,
   "title_cell": "Table of Contents",
   "title_sidebar": "Contents",
   "toc_cell": false,
   "toc_position": {},
   "toc_section_display": true,
   "toc_window_display": false
  }
 },
 "nbformat": 4,
 "nbformat_minor": 4
}
